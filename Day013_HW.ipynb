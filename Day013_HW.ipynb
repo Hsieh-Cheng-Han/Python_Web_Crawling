{
 "cells": [
  {
   "cell_type": "markdown",
   "metadata": {},
   "source": [
    "# PTT 網路爬蟲實作練習\n",
    "\n",
    "\n",
    "* 能夠利用 Request + BeatifulSour 撰寫爬蟲，並存放到合適的資料結構\n"
   ]
  },
  {
   "cell_type": "markdown",
   "metadata": {},
   "source": [
    "## 作業目標\n",
    "\n",
    "根據範例 ，完成以下問題：\n",
    "\n",
    "* ① 印出最新文章的「作者」「標題」「時間」\n",
    "* ② 印出第一頁所有文章的「作者」「標題」「時間」\n"
   ]
  },
  {
   "cell_type": "markdown",
   "metadata": {},
   "source": [
    "### ① 印出最新文章的「作者」「標題」「時間」"
   ]
  },
  {
   "cell_type": "code",
   "execution_count": 3,
   "metadata": {},
   "outputs": [
    {
     "name": "stdout",
     "output_type": "stream",
     "text": [
      "[情報] Hayward九月將因孩子出生短暫離隊\n",
      "作者: willy911006 (小溫)\n"
     ]
    }
   ],
   "source": [
    "import requests\n",
    "from bs4 import BeautifulSoup\n",
    "\n",
    "url = 'https://www.ptt.cc/bbs/NBA/index.html'\n",
    "r = requests.get(url)\n",
    "\n",
    "soup = BeautifulSoup(r.text, \"html5lib\")\n",
    "\n",
    "for d in soup.find_all(class_=\"title\"):\n",
    "    print(d.text.replace('\\t', '').replace('\\n', ''))\n",
    "    try:\n",
    "        r = BeautifulSoup(requests.get('https://www.ptt.cc'+d.find('a')['href']).text, \"html5lib\")\n",
    "        print('作者: ' + r.find(class_='article-meta-value').text)\n",
    "    except:\n",
    "        continue\n",
    "    break    "
   ]
  },
  {
   "cell_type": "markdown",
   "metadata": {},
   "source": [
    "### ② 印出第一頁所有文章的「作者」「標題」「時間」"
   ]
  },
  {
   "cell_type": "code",
   "execution_count": 4,
   "metadata": {},
   "outputs": [
    {
     "name": "stdout",
     "output_type": "stream",
     "text": [
      "[情報] Hayward九月將因孩子出生短暫離隊\n",
      "作者: willy911006 (小溫)\n",
      "[花邊] 只想留下布萊恩好的一面 歐尼爾不願紀錄\n",
      "作者: lovea (lovea)\n",
      "[公告] 板規v6.8\n",
      "[公告] 版主上任相關事項 \n",
      "作者: qazwsx879345 (Rajon Rondo)\n",
      "[情報] SEASON Schedule 賽程 March 19–20\n",
      "作者: Acetoxy (阿斯)\n",
      "[公告] 第一次被退文，可在三天後刪除退文\n",
      "作者: Vedan (味丹)\n",
      "[公告] 板務說明 (發錢)\n",
      "作者: Vedan (味丹)\n"
     ]
    }
   ],
   "source": [
    "for d in soup.find_all(class_=\"title\"):\n",
    "    print(d.text.replace('\\t', '').replace('\\n', ''))\n",
    "    try:\n",
    "        r = BeautifulSoup(requests.get('https://www.ptt.cc'+d.find('a')['href']).text, \"html5lib\")\n",
    "        print('作者: ' + r.find(class_='article-meta-value').text)\n",
    "    except:\n",
    "        continue"
   ]
  },
  {
   "cell_type": "markdown",
   "metadata": {},
   "source": [
    "### ③ 試著爬爬看其他版的文章"
   ]
  },
  {
   "cell_type": "code",
   "execution_count": 5,
   "metadata": {},
   "outputs": [
    {
     "name": "stdout",
     "output_type": "stream",
     "text": [
      "Re: [經驗] 爸，你回來了？\n",
      "作者: skypennyleo (soso)\n",
      "(本文已被刪除) [a22156650]\n",
      "(本文已被刪除) [a927417179]\n",
      "Re: [經驗] 山上不要喊別人的全名\n",
      "作者: a927417179 (abf)\n",
      "[公告] 宣導事項\n",
      "作者: a6234709 (矮醜魯肥宅之代言人)\n",
      "[找文] 找一篇在廟裡待過夜的文\n",
      "作者: neihu0122 (風起楓揚)\n",
      "(本文已被刪除) [ponponpon]\n",
      "[創作] 洛津渡-第三十三回-預知怪夢\n",
      "作者: erzhen04 (殺豬的牛二)\n",
      "[找文] 生存守則類的故事兩篇\n",
      "作者: macrose (再次重逢的世界)\n",
      "[創作] 倀鬼-7\n",
      "作者: anywell8081 (什麼都好)\n",
      "[找文] 找一篇日本怪談 結尾把詛咒轉嫁給觀眾\n",
      "作者: tom282f3 (好的 中國共產黨肺炎)\n",
      "[創作] 校外社團評鑑委員特別注意事項(二)\n",
      "作者: yutapon (川島  永嗣)\n",
      "Re: [經驗] 房間內的泰國娃娃\n",
      "作者: plsmaop (plsmaop)\n",
      "[公告] Marvel板規(20190728)\n",
      "作者: a6234709 (愛睏)\n",
      "[公告] 七月份置底閒聊區\n",
      "作者: a6234709 (矮醜魯肥宅之代言人)\n",
      "[公告] 七月份置底檢舉區\n",
      "作者: a6234709 (矮醜魯肥宅之代言人)\n"
     ]
    }
   ],
   "source": [
    "import requests\n",
    "from bs4 import BeautifulSoup\n",
    "\n",
    "url = 'https://www.ptt.cc/bbs/marvel/index.html'\n",
    "r = requests.get(url)\n",
    "\n",
    "soup = BeautifulSoup(r.text, \"html5lib\")\n",
    "\n",
    "for d in soup.find_all(class_=\"title\"):\n",
    "    print(d.text.replace('\\t', '').replace('\\n', ''))\n",
    "    try:\n",
    "        r = BeautifulSoup(requests.get('https://www.ptt.cc'+d.find('a')['href']).text, \"html5lib\")\n",
    "        print('作者: ' + r.find(class_='article-meta-value').text)\n",
    "    except:\n",
    "        continue"
   ]
  },
  {
   "cell_type": "code",
   "execution_count": null,
   "metadata": {},
   "outputs": [],
   "source": []
  }
 ],
 "metadata": {
  "kernelspec": {
   "display_name": "Python 3",
   "language": "python",
   "name": "python3"
  },
  "language_info": {
   "codemirror_mode": {
    "name": "ipython",
    "version": 3
   },
   "file_extension": ".py",
   "mimetype": "text/x-python",
   "name": "python",
   "nbconvert_exporter": "python",
   "pygments_lexer": "ipython3",
   "version": "3.7.4"
  }
 },
 "nbformat": 4,
 "nbformat_minor": 2
}
